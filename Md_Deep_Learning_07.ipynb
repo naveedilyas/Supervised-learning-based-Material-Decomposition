{
  "cells": [
    {
      "cell_type": "code",
      "execution_count": 7,
      "metadata": {
        "colab": {
          "base_uri": "https://localhost:8080/"
        },
        "id": "4iELdTHFApcI",
        "outputId": "985d7873-eb44-48ee-dac9-b740dbe59d0c"
      },
      "outputs": [
        {
          "output_type": "stream",
          "name": "stdout",
          "text": [
            "Looking in indexes: https://pypi.org/simple, https://us-python.pkg.dev/colab-wheels/public/simple/\n",
            "Collecting pydicom\n",
            "  Downloading pydicom-2.3.1-py3-none-any.whl (2.0 MB)\n",
            "\u001b[2K     \u001b[90m━━━━━━━━━━━━━━━━━━━━━━━━━━━━━━━━━━━━━━━━\u001b[0m \u001b[32m2.0/2.0 MB\u001b[0m \u001b[31m73.8 MB/s\u001b[0m eta \u001b[36m0:00:00\u001b[0m\n",
            "\u001b[?25hInstalling collected packages: pydicom\n",
            "Successfully installed pydicom-2.3.1\n"
          ]
        }
      ],
      "source": [
        "!pip install pydicom"
      ]
    },
    {
      "cell_type": "code",
      "execution_count": 19,
      "metadata": {
        "id": "IOI2OGoTAxzM"
      },
      "outputs": [],
      "source": [
        "import pydicom\n",
        "import os\n",
        "import torch\n",
        "import torch.nn as nn\n",
        "from torch.utils.data import Dataset, DataLoader\n",
        "import matplotlib.pyplot as plt\n",
        "import skimage.util\n",
        "import torch.optim as optim\n",
        "from torchvision.transforms import transforms\n",
        "from torchvision import models"
      ]
    },
    {
      "cell_type": "code",
      "execution_count": 2,
      "metadata": {
        "colab": {
          "base_uri": "https://localhost:8080/"
        },
        "id": "TIClxv4QAzYI",
        "outputId": "3769a3c9-0de3-4e74-c65b-27ed8ba47d97"
      },
      "outputs": [
        {
          "output_type": "stream",
          "name": "stdout",
          "text": [
            "Mounted at /content/drive\n"
          ]
        }
      ],
      "source": [
        "from google.colab import drive\n",
        "drive.mount('/content/drive')"
      ]
    },
    {
      "cell_type": "code",
      "execution_count": null,
      "metadata": {
        "id": "rjr4V-8qAzUh"
      },
      "outputs": [],
      "source": [
        "# root_dir = '/content/drive/MyDrive/MD_Data_Code/Outside_phantom_20_Samples'\n",
        "# path_to_images = '/content/drive/MyDrive/MD_Data_Code/Outside_phantom_20_Samples/Images_Outside'\n",
        "# # type(os.listdir(path_to_images))\n",
        "# path_to_labels = '/content/drive/MyDrive/MD_Data_Code/Outside_phantom_20_Samples/Labels_Outside'"
      ]
    },
    {
      "cell_type": "code",
      "source": [
        "root_dir = '/content/drive/MyDrive/CT_Data/CT_Data'\n",
        "path_to_images = '/content/drive/MyDrive/CT_Data/CT_Data/Images'\n",
        "# type(os.listdir(path_to_images))\n",
        "path_to_labels = '/content/drive/MyDrive/CT_Data/CT_Data/Labels'"
      ],
      "metadata": {
        "id": "Sf82zZEB7AxU"
      },
      "execution_count": 4,
      "outputs": []
    },
    {
      "cell_type": "code",
      "execution_count": 5,
      "metadata": {
        "colab": {
          "base_uri": "https://localhost:8080/"
        },
        "id": "iYVoBhrBAzSK",
        "outputId": "20bb415a-bc1c-4def-e5f2-cbe20268414c"
      },
      "outputs": [
        {
          "output_type": "execute_result",
          "data": {
            "text/plain": [
              "6"
            ]
          },
          "metadata": {},
          "execution_count": 5
        }
      ],
      "source": [
        "os.listdir(path_to_labels)\n",
        "Au_list, Ca_list, Gd_list,I_list,Lipid_list,Water_list = [],[],[],[],[],[]\n",
        "for folder in os.listdir(path_to_labels):\n",
        "  a = os.path.join(path_to_labels,folder)\n",
        "  for files in os.listdir(a):\n",
        "    path = os.path.join(a,files)\n",
        "    label = path.split('/')[-2]\n",
        "    # print(label)\n",
        "    if label == '1.3.6.1.4.1.56125.2.32.121.Au':\n",
        "      Au_list.append(path)\n",
        "    if label == '1.3.6.1.4.1.56125.2.32.121.Ca':\n",
        "      Ca_list.append(path) \n",
        "    if label == '1.3.6.1.4.1.56125.2.32.121.Gd':\n",
        "      Gd_list.append(path)\n",
        "    if label == '1.3.6.1.4.1.56125.2.32.121.I':\n",
        "      I_list.append(path) \n",
        "    if label == '1.3.6.1.4.1.56125.2.32.121.Lipid':\n",
        "      Lipid_list.append(path)\n",
        "    if label == '1.3.6.1.4.1.56125.2.32.121.Water':\n",
        "      Water_list.append(path)    \n",
        "\n",
        "len(Au_list)\n",
        "len(Ca_list)  "
      ]
    },
    {
      "cell_type": "code",
      "execution_count": 6,
      "metadata": {
        "colab": {
          "base_uri": "https://localhost:8080/"
        },
        "id": "6py1L21QAzQI",
        "outputId": "0d4ab0c9-d038-43dc-a89f-027ecfff8ea7"
      },
      "outputs": [
        {
          "output_type": "execute_result",
          "data": {
            "text/plain": [
              "6"
            ]
          },
          "metadata": {},
          "execution_count": 6
        }
      ],
      "source": [
        "labels = []\n",
        "for i in range(0,len(Water_list)):\n",
        "  labels.append([Au_list[i],Ca_list[i],Gd_list[i],I_list[i],Lipid_list[i],Water_list[i]])\n",
        "len(labels) "
      ]
    },
    {
      "cell_type": "code",
      "source": [
        "import torch\n",
        "from torch.utils.data import Dataset, DataLoader\n",
        "import os\n",
        "import numpy as np\n",
        "import pydicom\n",
        "\n",
        "class CT_Material_Dataset(nn.Module):\n",
        "  def __init__(self,root_dir,labels,transform):\n",
        "    self.ct_path = os.path.join(root_dir, 'Images')\n",
        "    self.ct_labels_path = labels\n",
        "    self.transform = transform\n",
        "    self.ct_filenames = sorted(os.listdir(self.ct_path))\n",
        "\n",
        "  def __len__(self):\n",
        "    return len(self.ct_filenames)\n",
        "\n",
        "  def __getitem__(self,idx,in_train=True):\n",
        "    ct_filename = self.ct_filenames[idx]\n",
        "    # print(\"ct_filenmae\",ct_filename)\n",
        "    ct_image = (pydicom.read_file(os.path.join(self.ct_path,ct_filename)).pixel_array)/255\n",
        "\n",
        "\n",
        "    ct_label1 = (pydicom.read_file(self.ct_labels_path[idx][0]).pixel_array)/255\n",
        "    ct_label2 = (pydicom.read_file(self.ct_labels_path[idx][1]).pixel_array)/255\n",
        "    ct_label3 = (pydicom.read_file(self.ct_labels_path[idx][2]).pixel_array)/255\n",
        "    ct_label4 = (pydicom.read_file(self.ct_labels_path[idx][3]).pixel_array)/255\n",
        "    ct_label5 = (pydicom.read_file(self.ct_labels_path[idx][4]).pixel_array)/255\n",
        "    ct_label6 = (pydicom.read_file(self.ct_labels_path[idx][5]).pixel_array)/255\n",
        "\n",
        "    ct_label_all = [ct_label1,ct_label2,ct_label3,ct_label4,ct_label5,ct_label6]\n",
        "    ct_label_all = np.array(ct_label_all)\n",
        "    \n",
        "    ct_image = torch.from_numpy(ct_image)\n",
        "    ct_label_all = torch.from_numpy(ct_label_all).float()\n",
        "    if self.transform is not None:\n",
        "        ct_image = self.transform(ct_image)\n",
        "        ct_label_all = self.transform(ct_label_all)\n",
        "\n",
        "\n",
        "    return ct_image, ct_label_all\n",
        "\n"
      ],
      "metadata": {
        "id": "y0ulnkF3za1-"
      },
      "execution_count": 7,
      "outputs": []
    },
    {
      "cell_type": "code",
      "source": [
        "\n",
        "# Define your transforms for train and valid\n",
        "transform_train = transforms.Compose([\n",
        "    transforms.RandomRotation(degrees=15),\n",
        "    transforms.RandomHorizontalFlip(p=0.5),\n",
        "    transforms.RandomVerticalFlip(p=0.5),\n",
        "    transforms.RandomCrop(size=(260, 260)),\n",
        "    transforms.GaussianBlur(kernel_size=3),\n",
        "    # transforms.ToTensor()\n",
        "])\n",
        "\n",
        "transform_valid = transforms.Compose([\n",
        "    # transforms.ToTensor()\n",
        "    transforms.GaussianBlur(kernel_size=3)\n",
        "])"
      ],
      "metadata": {
        "id": "ZL2DHLoGzCAf"
      },
      "execution_count": 8,
      "outputs": []
    },
    {
      "cell_type": "code",
      "source": [
        "# Split your dataset into train and valid sets\n",
        "# from torch.utils.data import random_split\n",
        "# dataset = CT_Material_Dataset(root_dir, labels, transform=None)\n",
        "# train_size = int(0.8 * len(dataset))\n",
        "# valid_size = len(dataset) - train_size\n",
        "# train_dataset, valid_dataset = random_split(dataset, [train_size, valid_size])\n",
        "# print(len(train_dataset),len(valid_dataset))"
      ],
      "metadata": {
        "id": "azyMhTptz6MZ"
      },
      "execution_count": null,
      "outputs": []
    },
    {
      "cell_type": "code",
      "source": [
        "# Create instances of your dataset class for train and valid with different transforms\n",
        "train_dataset = CT_Material_Dataset(root_dir, labels, transform=transform_train)\n",
        "valid_dataset = CT_Material_Dataset(root_dir, labels, transform=transform_valid)\n",
        "print(len(train_dataset),len(valid_dataset))"
      ],
      "metadata": {
        "colab": {
          "base_uri": "https://localhost:8080/"
        },
        "id": "WaBNEcLKzKvK",
        "outputId": "71da8568-e787-48a4-cd73-1515c94bab10"
      },
      "execution_count": 9,
      "outputs": [
        {
          "output_type": "stream",
          "name": "stdout",
          "text": [
            "6 6\n"
          ]
        }
      ]
    },
    {
      "cell_type": "code",
      "source": [
        "# Create dataloaders for train and valid\n",
        "train_loader = DataLoader(train_dataset, batch_size=2, shuffle=True)\n",
        "valid_loader = DataLoader(valid_dataset, batch_size=2, shuffle=False)"
      ],
      "metadata": {
        "id": "zHrbJ2ZMzInK"
      },
      "execution_count": 10,
      "outputs": []
    },
    {
      "cell_type": "code",
      "execution_count": 11,
      "metadata": {
        "colab": {
          "base_uri": "https://localhost:8080/"
        },
        "id": "4elgIk5xAzGh",
        "outputId": "20b9a642-7194-41e8-d0c2-fe63e820a3d9"
      },
      "outputs": [
        {
          "output_type": "stream",
          "name": "stdout",
          "text": [
            "torch.Size([2, 5, 260, 260]) torch.Size([2, 6, 260, 260])\n"
          ]
        },
        {
          "output_type": "execute_result",
          "data": {
            "text/plain": [
              "3"
            ]
          },
          "metadata": {},
          "execution_count": 11
        }
      ],
      "source": [
        "a,b = next(iter(train_loader))\n",
        "print(a.shape, b.shape)\n",
        "len(train_loader)"
      ]
    },
    {
      "cell_type": "code",
      "source": [
        "a,b = next(iter(valid_loader))\n",
        "print(a.shape, b.shape)\n",
        "len(valid_loader)"
      ],
      "metadata": {
        "colab": {
          "base_uri": "https://localhost:8080/"
        },
        "id": "2O394P6iePU5",
        "outputId": "a905d649-95a2-4e2c-d843-7985807ad266"
      },
      "execution_count": 12,
      "outputs": [
        {
          "output_type": "stream",
          "name": "stdout",
          "text": [
            "torch.Size([2, 5, 1260, 1260]) torch.Size([2, 6, 1260, 1260])\n"
          ]
        },
        {
          "output_type": "execute_result",
          "data": {
            "text/plain": [
              "3"
            ]
          },
          "metadata": {},
          "execution_count": 12
        }
      ]
    },
    {
      "cell_type": "code",
      "execution_count": 9,
      "metadata": {
        "id": "9AGLPaQ6AzD0"
      },
      "outputs": [],
      "source": [
        "device = torch.device(\"cuda\" if torch.cuda.is_available() else \"cpu\")"
      ]
    },
    {
      "cell_type": "markdown",
      "metadata": {
        "id": "R4srjRROKRPs"
      },
      "source": [
        "Model Preperation\n",
        "\n"
      ]
    },
    {
      "cell_type": "code",
      "execution_count": null,
      "metadata": {
        "id": "AIXjv5ZkKQPJ"
      },
      "outputs": [],
      "source": [
        "# class ResNet50(nn.Module):\n",
        "#   def __init__(self,num_classes=6):\n",
        "#     super().__init__()\n",
        "#     self.resnet50 = models.resnet50(pretrained=True)\n",
        "#     self.resnet50.conv1 = nn.Conv2d(5, 64, kernel_size=7, stride=2, padding=3, bias=False)\n",
        "#     self.resnet50.fc = nn.Linear(2048, num_classes)\n",
        "\n",
        "#   def forward(self,x):\n",
        "#     x = self.resnet50(x)\n",
        "#     return x  \n",
        "\n",
        "# if __name__ == '__main__':\n",
        "#     model = ResNet50()\n",
        "#     input = torch.randn(1, 5, 400, 400)\n",
        "#     output = model(input)\n",
        "#     print(input.size())\n",
        "#     print(output.size())"
      ]
    },
    {
      "cell_type": "code",
      "execution_count": 8,
      "metadata": {
        "id": "hYENvKK3P3ai"
      },
      "outputs": [],
      "source": [
        "# Creating a UNet for SPCCT (Spectral Photon Counting CT)\n",
        "import numpy as np\n",
        "import torch\n",
        "import torch.nn as nn\n",
        "import torch.nn.functional as F\n",
        "\n",
        "\n",
        "class BasicBlock(nn.Module):\n",
        "    def __init__(self, in_channels, out_channels):\n",
        "        super(BasicBlock, self).__init__()\n",
        "        # self.gn1 = nn.GroupNorm(n_groups, in_channels)\n",
        "        self.relu1 = nn.ReLU(inplace=True)\n",
        "        self.conv1 = nn.Conv2d(in_channels, out_channels, kernel_size=3, padding=1)\n",
        "        # self.gn2 = nn.GroupNorm(n_groups, in_channels)\n",
        "        self.relu2 = nn.ReLU(inplace=True)\n",
        "        self.conv2 = nn.Conv2d(out_channels, out_channels, kernel_size=3, padding=1)\n",
        "\n",
        "    def forward(self, x):\n",
        "        residul = x\n",
        "        x = self.relu1(x)\n",
        "        x = self.conv1(x)\n",
        "        x = self.relu2(x)\n",
        "        x = self.conv2(x)\n",
        "        # x = x + residul\n",
        "\n",
        "        return x\n",
        "\n",
        "class UNet2D(nn.Module):\n",
        "    \"\"\"2d unet for Material Decomposition\n",
        "    Ref:\n",
        "        Material Decomposition using 2d-UNet. Naveed Ilyas\n",
        "    Args:\n",
        "        input_shape: tuple, (channel,height, width)\n",
        "    \"\"\"\n",
        "\n",
        "    def __init__(self,in_channels=5, out_channels=6, init_channels=32, p=0.2):\n",
        "        super(UNet2D, self).__init__()\n",
        "        #self.input_shape = input_shape\n",
        "        self.in_channels = in_channels\n",
        "        self.out_channels = out_channels\n",
        "        self.init_channels = init_channels\n",
        "        self.make_encoder()\n",
        "        self.make_decoder()\n",
        "        self.dropout = nn.Dropout(p=p)\n",
        "\n",
        "    def make_encoder(self):\n",
        "        init_channels = self.init_channels\n",
        "        self.conv1a = nn.Conv2d(self.in_channels, init_channels, 3, padding=1)\n",
        "        self.conv1b = BasicBlock(init_channels, init_channels)  # 32\n",
        "\n",
        "        self.ds1 = nn.Conv2d(init_channels, init_channels * 2, 3, stride=2, padding=1)  # down sampling and add channels\n",
        "\n",
        "        self.conv2a = BasicBlock(init_channels * 2, init_channels * 2)\n",
        "        self.conv2b = BasicBlock(init_channels * 2, init_channels * 2)\n",
        "\n",
        "        self.ds2 = nn.Conv2d(init_channels * 2, init_channels * 4, 3, stride=2, padding=2)\n",
        "\n",
        "        self.conv3a = BasicBlock(init_channels * 4, init_channels * 4)\n",
        "        self.conv3b = BasicBlock(init_channels * 4, init_channels * 4)\n",
        "\n",
        "        self.ds3 = nn.Conv2d(init_channels * 4, init_channels * 8, 3, stride=2, padding=1)\n",
        "        # self.ds3 = nn.Conv2d(init_channels * 4, init_channels * 8, 3, stride=2, padding=0)\n",
        "\n",
        "        self.conv4a = BasicBlock(init_channels * 8, init_channels * 8)\n",
        "        self.conv4b = BasicBlock(init_channels * 8, init_channels * 8)\n",
        "        self.conv4c = BasicBlock(init_channels * 8, init_channels * 8)\n",
        "        self.conv4d = BasicBlock(init_channels * 8, init_channels * 8)\n",
        "\n",
        "    def make_decoder(self):\n",
        "        init_channels = self.init_channels\n",
        "        self.up4conva = nn.Conv2d(init_channels * 8, init_channels * 4, 1)\n",
        "        self.up4 = nn.Upsample(scale_factor=2)  # mode='bilinear'\n",
        "        self.up4convb = BasicBlock(init_channels * 4, init_channels * 4)\n",
        "\n",
        "        self.up3conva = nn.Conv2d(init_channels * 4, init_channels * 2, 1)\n",
        "        self.up3 = nn.Upsample(scale_factor=2)\n",
        "        self.up31 = nn.Conv2d(init_channels * 2,init_channels * 2,kernel_size=3,stride=1,padding=0)\n",
        "        self.up3convb = BasicBlock(init_channels * 2, init_channels * 2)\n",
        "\n",
        "        self.up2conva = nn.Conv2d(init_channels * 2, init_channels, 1)\n",
        "        self.up2 = nn.Upsample(scale_factor=2)\n",
        "        self.up2convb = BasicBlock(init_channels, init_channels)\n",
        "\n",
        "        self.up1conv = nn.Conv2d(init_channels, self.out_channels, 1)\n",
        "\n",
        "    def forward(self, x):\n",
        "        c1 = self.conv1a(x)\n",
        "        c1 = self.conv1b(c1)\n",
        "        c1d = self.ds1(c1)\n",
        "\n",
        "        c2 = self.conv2a(c1d)\n",
        "        c2 = self.conv2b(c2)\n",
        "        # print(\"c2\",c2.shape)\n",
        "        c2d = self.ds2(c2)\n",
        "\n",
        "        c3 = self.conv3a(c2d)\n",
        "        c3 = self.conv3b(c3)\n",
        "        \n",
        "        c3d = self.ds3(c3)\n",
        "        # print(\"c3\",c3.shape)\n",
        "        c4 = self.conv4a(c3d)\n",
        "        c4 = self.conv4b(c4)\n",
        "        c4 = self.conv4c(c4)\n",
        "        c4d = self.conv4d(c4)\n",
        "\n",
        "        c4d = self.dropout(c4d)\n",
        "\n",
        "        u4 = self.up4conva(c4d)\n",
        "        # print(\"u4\",u4.shape)\n",
        "        u4 = self.up4(u4)\n",
        "        # print(\"u4\",u4.shape)\n",
        "        u4 = u4 + c3\n",
        "        u4 = self.up4convb(u4)\n",
        "\n",
        "        u3 = self.up3conva(u4)\n",
        "        u3 = self.up3(u3)\n",
        "        u3 = self.up31(u3)\n",
        "        # print(\"u3\",u3.shape)\n",
        "        u3 = u3 + c2\n",
        "        u3 = self.up3convb(u3)\n",
        "\n",
        "        u2 = self.up2conva(u3)\n",
        "        u2 = self.up2(u2)\n",
        "        u2 = u2 + c1\n",
        "        u2 = self.up2convb(u2)\n",
        "\n",
        "        uout = self.up1conv(u2)\n",
        "        # uout = F.sigmoid(uout)\n",
        "        uout = F.softmax(uout)\n",
        "\n",
        "        return uout\n",
        "\n",
        "# if __name__ == \"__main__\":\n",
        "#     #input  = torch.randn(1,4,160,192,128)\n",
        "#     input = torch.randn(1, 5, 260, 260)\n",
        "#     input = torch.randn(1, 5, 1260, 1260)\n",
        "#     #input = torch.randn(1, 4, 164, 164, 164)\n",
        "#     #input2 = torch.randn((1,8,100,100,60))\n",
        "#     model = UNet2D()\n",
        "#     output = model(input)\n",
        "#     print(output.shape) \n",
        "    # print(output.shape)  "
      ]
    },
    {
      "cell_type": "code",
      "execution_count": 33,
      "metadata": {
        "id": "hQEaEj72WA9X"
      },
      "outputs": [],
      "source": [
        "criterion = nn.CrossEntropyLoss()\n",
        "model = UNet2D()\n",
        "model = model.to(device)\n",
        "optimizer = optim.Adam(model.parameters(),lr=0.001)\n",
        "nump_epoch= 2"
      ]
    },
    {
      "cell_type": "code",
      "execution_count": 34,
      "metadata": {
        "colab": {
          "base_uri": "https://localhost:8080/"
        },
        "id": "_cN1P5QPUX-B",
        "outputId": "bc21f571-aff1-435c-aa9a-788aa67acff7"
      },
      "outputs": [
        {
          "output_type": "stream",
          "name": "stderr",
          "text": [
            "<ipython-input-14-cb4fe42f3fde>:129: UserWarning: Implicit dimension choice for softmax has been deprecated. Change the call to include dim=X as an argument.\n",
            "  uout = F.softmax(uout)\n"
          ]
        },
        {
          "output_type": "stream",
          "name": "stdout",
          "text": [
            "Epoch 0 \t\t Training loss: 22.478098551432293 \t\t Valid loss: 18.49472999572754\n",
            "Validation Loss Decreased: 1000000.000000 \t\t 55.484190\n",
            "Epoch 0 \t\t Training loss: 31.519665400187176 \t\t Valid loss: 17.38440195719401\n",
            "Validation Loss Decreased: 55.484190 \t\t 52.153206\n",
            "Epoch 0 \t\t Training loss: 45.42335446675619 \t\t Valid loss: 17.372819900512695\n",
            "Validation Loss Decreased: 52.153206 \t\t 52.118460\n",
            "Epoch 1 \t\t Training loss: 11.624150594075521 \t\t Valid loss: 17.372819900512695\n",
            "Epoch 1 \t\t Training loss: 26.180503845214844 \t\t Valid loss: 17.37282117207845\n",
            "Epoch 1 \t\t Training loss: 38.049303690592446 \t\t Valid loss: 17.372819264729817\n",
            "Validation Loss Decreased: 52.118460 \t\t 52.118458\n"
          ]
        }
      ],
      "source": [
        "# Set up a directory to save the model checkpoints\n",
        "# checkpoint_dir = '/content/drive/MyDrive/MD_Data_Code/Model_Saving/checkpoints'\n",
        "checkpoint_dir ='/content/drive/MyDrive/CT_Data/CT_Data/Saving_Models'\n",
        "if not os.path.exists(checkpoint_dir):\n",
        "    os.makedirs(checkpoint_dir)\n",
        "\n",
        "\n",
        "train_loss_list, valid_loss_list = [],[]\n",
        "min_valid_loss = 1000000\n",
        "for epoch in range(nump_epoch):\n",
        "  train_loss = 0\n",
        "  model.train()\n",
        "  for i, data in enumerate(train_loader):\n",
        "    images, labels = data\n",
        "    images = images.to(device)\n",
        "    labels = labels.to(device)\n",
        "    # labels = labels.argmax(dim=1) \n",
        "    # print(images.shape, labels.shape)\n",
        "    # print(images.shape, labels.shape)\n",
        "    output =  model(images.float())\n",
        "    # output =  model(images)\n",
        "    optimizer.zero_grad()\n",
        "    loss = criterion(output,labels)\n",
        "    # loss += loss.item()\n",
        "    loss.backward()\n",
        "    optimizer.step()\n",
        "    train_loss += loss.item()\n",
        "\n",
        "    valid_loss = 0\n",
        "    model.eval()\n",
        "    for i, data in enumerate(valid_loader):\n",
        "      images, labels = data\n",
        "      images = images.to(device)\n",
        "      labels = labels.to(device)\n",
        "      output = model(images.float())\n",
        "      loss = criterion(output,labels)\n",
        "      valid_loss += loss.item()\n",
        "    print(f'Epoch {epoch} \\t\\t Training loss: {train_loss/len(train_loader)} \\t\\t Valid loss: {valid_loss/len(valid_loader)}')\n",
        "    if min_valid_loss > valid_loss:\n",
        "      print(f'Validation Loss Decreased: {min_valid_loss:.6f} \\t\\t {valid_loss:.6f}')\n",
        "      min_valid_loss = valid_loss\n",
        "      # torch.save(model.state_dict(), '/content/drive/MyDrive/MD_Data_Code/Model_Saving/saved_model_UNet.pth')\n",
        "      checkpoint = {\"epoch\":{epoch},\n",
        "                    \"model_state_dict\":model.state_dict(),\n",
        "                    \"loss\":valid_loss}\n",
        "      torch.save(checkpoint,checkpoint_dir+'my_model_checkpoint_{}.pth'.format(epoch))              \n",
        "\n",
        "  train_loss_list.append(train_loss/len(train_loader))\n",
        "  valid_loss_list.append(valid_loss/len(valid_loader))"
      ]
    },
    {
      "cell_type": "code",
      "execution_count": null,
      "metadata": {
        "id": "dCaJWnwWOM1G"
      },
      "outputs": [],
      "source": [
        "import pickle\n",
        "\n",
        "# Declare a list variable\n",
        "my_list = [1, 2, 3, 4, 5]\n",
        "\n",
        "# Write the list to memory\n",
        "with open('/content/drive/MyDrive/MD_Data_Code/Model_Saving/train_loss_list.pkl', 'wb') as f:\n",
        "    pickle.dump(train_loss_list, f)\n",
        "\n",
        "with open('/content/drive/MyDrive/MD_Data_Code/Model_Saving/valid_loss_list.pkl', 'wb') as f:\n",
        "    pickle.dump(valid_loss_list, f)    \n",
        "\n",
        "# Read the list from memory\n",
        "with open('/content/drive/MyDrive/MD_Data_Code/Model_Saving/train_loss_list.pkl', 'rb') as f:\n",
        "    train_loss_list_from_memory = pickle.load(f)\n",
        "\n",
        "with open('//content/drive/MyDrive/MD_Data_Code/Model_Saving/valid_loss_list.pkl', 'rb') as f:\n",
        "    valid_loss_list_from_memory = pickle.load(f)\n",
        "\n",
        "    "
      ]
    },
    {
      "cell_type": "code",
      "execution_count": 17,
      "metadata": {
        "id": "ZfUlI2q1XFgf",
        "colab": {
          "base_uri": "https://localhost:8080/",
          "height": 279
        },
        "outputId": "c8319f84-41ca-4fda-a2a8-138a62077258"
      },
      "outputs": [
        {
          "output_type": "display_data",
          "data": {
            "text/plain": [
              "<Figure size 432x288 with 1 Axes>"
            ],
            "image/png": "[encoded data removed]"
          },
          "metadata": {
            "needs_background": "light"
          }
        }
      ],
      "source": [
        "import matplotlib.pyplot as plt\n",
        "\n",
        "# Plotting the training and validation loss curves\n",
        "plt.plot(train_loss_list, label='Training loss')\n",
        "plt.plot(valid_loss_list, label='Validation loss')\n",
        "plt.legend(frameon=False)\n",
        "plt.xlabel('Epoch')\n",
        "plt.ylabel('Loss')\n",
        "plt.show()"
      ]
    },
    {
      "cell_type": "code",
      "source": [
        "import matplotlib.pyplot as plt\n",
        "output.shape\n",
        "out_tensor = output[0]\n",
        "out_numpy = out_tensor.cpu().detach().numpy()\n",
        "print(out_numpy.shape)\n",
        "\n",
        "plt.imshow(out_numpy[5,:,:])\n",
        "plt.show()"
      ],
      "metadata": {
        "colab": {
          "base_uri": "https://localhost:8080/",
          "height": 287
        },
        "id": "ks2U0kuB_GJm",
        "outputId": "41e9879f-f5e4-4c2f-818b-9f5cce6f4c2b"
      },
      "execution_count": 38,
      "outputs": [
        {
          "output_type": "stream",
          "name": "stdout",
          "text": [
            "(6, 1260, 1260)\n"
          ]
        },
        {
          "output_type": "display_data",
          "data": {
            "text/plain": [
              "<Figure size 432x288 with 1 Axes>"
            ],
            "image/png": "[encoded data removed]"
          },
          "metadata": {
            "needs_background": "light"
          }
        }
      ]
    },
    {
      "cell_type": "code",
      "execution_count": 23,
      "metadata": {
        "colab": {
          "base_uri": "https://localhost:8080/",
          "height": 269
        },
        "id": "v4fueSKSnr8t",
        "outputId": "f3282f0a-ae32-4eaf-b970-8d839fb413bd"
      },
      "outputs": [
        {
          "output_type": "display_data",
          "data": {
            "text/plain": [
              "<Figure size 432x288 with 1 Axes>"
            ],
            "image/png": "[encoded data removed]"
          },
          "metadata": {
            "needs_background": "light"
          }
        }
      ],
      "source": [
        "import matplotlib.pyplot as plt\n",
        "import torch\n",
        "\n",
        "out = torch.randn(4, 6, 260, 260)\n",
        "out_numpy = out[0].cpu().detach().numpy()\n",
        "out_numpy.shape\n",
        "\n",
        "import matplotlib.pyplot as plt\n",
        "plt.imshow(out_numpy[3,:,:])\n",
        "plt.show()"
      ]
    },
    {
      "cell_type": "markdown",
      "metadata": {
        "id": "hWsPHX4NrNFa"
      },
      "source": [
        "**Testing the Trained Model**"
      ]
    },
    {
      "cell_type": "code",
      "execution_count": 38,
      "metadata": {
        "id": "XduI0sftkwaf"
      },
      "outputs": [],
      "source": [
        "# Normalize the test data to have zero mean and unit variance\n",
        "# test_data = (test_data - np.mean(test_data)) / np.std(test_data)"
      ]
    },
    {
      "cell_type": "code",
      "execution_count": 8,
      "metadata": {
        "id": "nNz1PmnOSb0Y"
      },
      "outputs": [],
      "source": [
        "import pydicom\n",
        "import os\n",
        "import torch\n",
        "import torch.nn as nn\n",
        "from torch.utils.data import Dataset, DataLoader\n",
        "import matplotlib.pyplot as plt\n",
        "import skimage.util\n",
        "import torch.optim as optim\n",
        "from torchvision.transforms import transforms\n",
        "from torchvision import models"
      ]
    },
    {
      "cell_type": "code",
      "source": [
        "root_dir = '/content/drive/MyDrive/CT_Data/CT_Data'\n",
        "path_to_images = '/content/drive/MyDrive/CT_Data/CT_Data/Images'\n",
        "# type(os.listdir(path_to_images))\n",
        "path_to_labels = '/content/drive/MyDrive/CT_Data/CT_Data/Labels'"
      ],
      "metadata": {
        "id": "GNAavk8_G1_B"
      },
      "execution_count": 9,
      "outputs": []
    },
    {
      "cell_type": "code",
      "source": [
        "os.listdir(path_to_labels)\n",
        "Au_list, Ca_list, Gd_list,I_list,Lipid_list,Water_list = [],[],[],[],[],[]\n",
        "for folder in os.listdir(path_to_labels):\n",
        "  a = os.path.join(path_to_labels,folder)\n",
        "  for files in os.listdir(a):\n",
        "    path = os.path.join(a,files)\n",
        "    label = path.split('/')[-2]\n",
        "    # print(label)\n",
        "    if label == '1.3.6.1.4.1.56125.2.32.121.Au':\n",
        "      Au_list.append(path)\n",
        "    if label == '1.3.6.1.4.1.56125.2.32.121.Ca':\n",
        "      Ca_list.append(path) \n",
        "    if label == '1.3.6.1.4.1.56125.2.32.121.Gd':\n",
        "      Gd_list.append(path)\n",
        "    if label == '1.3.6.1.4.1.56125.2.32.121.I':\n",
        "      I_list.append(path) \n",
        "    if label == '1.3.6.1.4.1.56125.2.32.121.Lipid':\n",
        "      Lipid_list.append(path)\n",
        "    if label == '1.3.6.1.4.1.56125.2.32.121.Water':\n",
        "      Water_list.append(path)    \n",
        "\n",
        "len(Au_list)\n",
        "len(Ca_list)  "
      ],
      "metadata": {
        "colab": {
          "base_uri": "https://localhost:8080/"
        },
        "id": "YJWP_eJIHekK",
        "outputId": "65dedd81-313a-445f-dee2-c8825ba87dd9"
      },
      "execution_count": 10,
      "outputs": [
        {
          "output_type": "execute_result",
          "data": {
            "text/plain": [
              "6"
            ]
          },
          "metadata": {},
          "execution_count": 10
        }
      ]
    },
    {
      "cell_type": "code",
      "execution_count": 11,
      "metadata": {
        "colab": {
          "base_uri": "https://localhost:8080/"
        },
        "outputId": "962a3282-1630-4c9a-d7f7-9924b5ddffbd",
        "id": "o3ilYLvZHuTC"
      },
      "outputs": [
        {
          "output_type": "execute_result",
          "data": {
            "text/plain": [
              "6"
            ]
          },
          "metadata": {},
          "execution_count": 11
        }
      ],
      "source": [
        "labels = []\n",
        "for i in range(0,len(Water_list)):\n",
        "  labels.append([Au_list[i],Ca_list[i],Gd_list[i],I_list[i],Lipid_list[i],Water_list[i]])\n",
        "len(labels) "
      ]
    },
    {
      "cell_type": "code",
      "source": [
        "import torch\n",
        "from torch.utils.data import Dataset, DataLoader\n",
        "import os\n",
        "import numpy as np\n",
        "import pydicom\n",
        "\n",
        "class CT_Material_Dataset(nn.Module):\n",
        "  def __init__(self,root_dir,labels,transform):\n",
        "    self.ct_path = os.path.join(root_dir, 'Images')\n",
        "    self.ct_labels_path = labels\n",
        "    self.transform = transform\n",
        "    self.ct_filenames = sorted(os.listdir(self.ct_path))\n",
        "\n",
        "  def __len__(self):\n",
        "    return len(self.ct_filenames)\n",
        "\n",
        "  def __getitem__(self,idx,in_train=True):\n",
        "    ct_filename = self.ct_filenames[idx]\n",
        "    # print(\"ct_filenmae\",ct_filename)\n",
        "    ct_image = (pydicom.read_file(os.path.join(self.ct_path,ct_filename)).pixel_array)/255\n",
        "\n",
        "\n",
        "    ct_label1 = (pydicom.read_file(self.ct_labels_path[idx][0]).pixel_array)/255\n",
        "    ct_label2 = (pydicom.read_file(self.ct_labels_path[idx][1]).pixel_array)/255\n",
        "    ct_label3 = (pydicom.read_file(self.ct_labels_path[idx][2]).pixel_array)/255\n",
        "    ct_label4 = (pydicom.read_file(self.ct_labels_path[idx][3]).pixel_array)/255\n",
        "    ct_label5 = (pydicom.read_file(self.ct_labels_path[idx][4]).pixel_array)/255\n",
        "    ct_label6 = (pydicom.read_file(self.ct_labels_path[idx][5]).pixel_array)/255\n",
        "\n",
        "    ct_label_all = [ct_label1,ct_label2,ct_label3,ct_label4,ct_label5,ct_label6]\n",
        "    ct_label_all = np.array(ct_label_all)\n",
        "    \n",
        "    ct_image = torch.from_numpy(ct_image)\n",
        "    ct_label_all = torch.from_numpy(ct_label_all).float()\n",
        "    if self.transform is not None:\n",
        "        ct_image = self.transform(ct_image)\n",
        "        ct_label_all = self.transform(ct_label_all)\n",
        "\n",
        "\n",
        "    return ct_image, ct_label_all\n",
        "\n"
      ],
      "metadata": {
        "id": "xbMFjYvQIG8q"
      },
      "execution_count": 12,
      "outputs": []
    },
    {
      "cell_type": "code",
      "source": [
        "test_dataset = CT_Material_Dataset(root_dir, labels, transform=None)"
      ],
      "metadata": {
        "id": "b6-Zaai5IYjf"
      },
      "execution_count": 13,
      "outputs": []
    },
    {
      "cell_type": "code",
      "source": [
        "test_loader = DataLoader(test_dataset, batch_size=2, shuffle=False)"
      ],
      "metadata": {
        "id": "_Nw1nPYyIndH"
      },
      "execution_count": 14,
      "outputs": []
    },
    {
      "cell_type": "code",
      "source": [
        "a,b = next(iter(test_loader))\n",
        "print(a.shape, b.shape)\n",
        "len(test_loader)"
      ],
      "metadata": {
        "colab": {
          "base_uri": "https://localhost:8080/"
        },
        "outputId": "7fc68ad9-bbd7-4b12-bc12-2086d13d47b1",
        "id": "7ZNxuX6jIzuF"
      },
      "execution_count": 15,
      "outputs": [
        {
          "output_type": "stream",
          "name": "stdout",
          "text": [
            "torch.Size([2, 5, 1260, 1260]) torch.Size([2, 6, 1260, 1260])\n"
          ]
        },
        {
          "output_type": "execute_result",
          "data": {
            "text/plain": [
              "3"
            ]
          },
          "metadata": {},
          "execution_count": 15
        }
      ]
    },
    {
      "cell_type": "code",
      "execution_count": 16,
      "metadata": {
        "id": "q4ANuACoJBSw"
      },
      "outputs": [],
      "source": [
        "device = torch.device(\"cuda\" if torch.cuda.is_available() else \"cpu\")"
      ]
    },
    {
      "cell_type": "code",
      "execution_count": 17,
      "metadata": {
        "id": "A9Zl57wpJHr1"
      },
      "outputs": [],
      "source": [
        "# Creating a UNet for SPCCT (Spectral Photon Counting CT)\n",
        "import numpy as np\n",
        "import torch\n",
        "import torch.nn as nn\n",
        "import torch.nn.functional as F\n",
        "\n",
        "\n",
        "class BasicBlock(nn.Module):\n",
        "    def __init__(self, in_channels, out_channels):\n",
        "        super(BasicBlock, self).__init__()\n",
        "        # self.gn1 = nn.GroupNorm(n_groups, in_channels)\n",
        "        self.relu1 = nn.ReLU(inplace=True)\n",
        "        self.conv1 = nn.Conv2d(in_channels, out_channels, kernel_size=3, padding=1)\n",
        "        # self.gn2 = nn.GroupNorm(n_groups, in_channels)\n",
        "        self.relu2 = nn.ReLU(inplace=True)\n",
        "        self.conv2 = nn.Conv2d(out_channels, out_channels, kernel_size=3, padding=1)\n",
        "\n",
        "    def forward(self, x):\n",
        "        residul = x\n",
        "        x = self.relu1(x)\n",
        "        x = self.conv1(x)\n",
        "        x = self.relu2(x)\n",
        "        x = self.conv2(x)\n",
        "        # x = x + residul\n",
        "\n",
        "        return x\n",
        "\n",
        "class UNet2D(nn.Module):\n",
        "    \"\"\"2d unet for Material Decomposition\n",
        "    Ref:\n",
        "        Material Decomposition using 2d-UNet. Naveed Ilyas\n",
        "    Args:\n",
        "        input_shape: tuple, (channel,height, width)\n",
        "    \"\"\"\n",
        "\n",
        "    def __init__(self,in_channels=5, out_channels=6, init_channels=32, p=0.2):\n",
        "        super(UNet2D, self).__init__()\n",
        "        #self.input_shape = input_shape\n",
        "        self.in_channels = in_channels\n",
        "        self.out_channels = out_channels\n",
        "        self.init_channels = init_channels\n",
        "        self.make_encoder()\n",
        "        self.make_decoder()\n",
        "        self.dropout = nn.Dropout(p=p)\n",
        "\n",
        "    def make_encoder(self):\n",
        "        init_channels = self.init_channels\n",
        "        self.conv1a = nn.Conv2d(self.in_channels, init_channels, 3, padding=1)\n",
        "        self.conv1b = BasicBlock(init_channels, init_channels)  # 32\n",
        "\n",
        "        self.ds1 = nn.Conv2d(init_channels, init_channels * 2, 3, stride=2, padding=1)  # down sampling and add channels\n",
        "\n",
        "        self.conv2a = BasicBlock(init_channels * 2, init_channels * 2)\n",
        "        self.conv2b = BasicBlock(init_channels * 2, init_channels * 2)\n",
        "\n",
        "        self.ds2 = nn.Conv2d(init_channels * 2, init_channels * 4, 3, stride=2, padding=2)\n",
        "\n",
        "        self.conv3a = BasicBlock(init_channels * 4, init_channels * 4)\n",
        "        self.conv3b = BasicBlock(init_channels * 4, init_channels * 4)\n",
        "\n",
        "        self.ds3 = nn.Conv2d(init_channels * 4, init_channels * 8, 3, stride=2, padding=1)\n",
        "        # self.ds3 = nn.Conv2d(init_channels * 4, init_channels * 8, 3, stride=2, padding=0)\n",
        "\n",
        "        self.conv4a = BasicBlock(init_channels * 8, init_channels * 8)\n",
        "        self.conv4b = BasicBlock(init_channels * 8, init_channels * 8)\n",
        "        self.conv4c = BasicBlock(init_channels * 8, init_channels * 8)\n",
        "        self.conv4d = BasicBlock(init_channels * 8, init_channels * 8)\n",
        "\n",
        "    def make_decoder(self):\n",
        "        init_channels = self.init_channels\n",
        "        self.up4conva = nn.Conv2d(init_channels * 8, init_channels * 4, 1)\n",
        "        self.up4 = nn.Upsample(scale_factor=2)  # mode='bilinear'\n",
        "        self.up4convb = BasicBlock(init_channels * 4, init_channels * 4)\n",
        "\n",
        "        self.up3conva = nn.Conv2d(init_channels * 4, init_channels * 2, 1)\n",
        "        self.up3 = nn.Upsample(scale_factor=2)\n",
        "        self.up31 = nn.Conv2d(init_channels * 2,init_channels * 2,kernel_size=3,stride=1,padding=0)\n",
        "        self.up3convb = BasicBlock(init_channels * 2, init_channels * 2)\n",
        "\n",
        "        self.up2conva = nn.Conv2d(init_channels * 2, init_channels, 1)\n",
        "        self.up2 = nn.Upsample(scale_factor=2)\n",
        "        self.up2convb = BasicBlock(init_channels, init_channels)\n",
        "\n",
        "        self.up1conv = nn.Conv2d(init_channels, self.out_channels, 1)\n",
        "\n",
        "    def forward(self, x):\n",
        "        c1 = self.conv1a(x)\n",
        "        c1 = self.conv1b(c1)\n",
        "        c1d = self.ds1(c1)\n",
        "\n",
        "        c2 = self.conv2a(c1d)\n",
        "        c2 = self.conv2b(c2)\n",
        "        # print(\"c2\",c2.shape)\n",
        "        c2d = self.ds2(c2)\n",
        "\n",
        "        c3 = self.conv3a(c2d)\n",
        "        c3 = self.conv3b(c3)\n",
        "        \n",
        "        c3d = self.ds3(c3)\n",
        "        # print(\"c3\",c3.shape)\n",
        "        c4 = self.conv4a(c3d)\n",
        "        c4 = self.conv4b(c4)\n",
        "        c4 = self.conv4c(c4)\n",
        "        c4d = self.conv4d(c4)\n",
        "\n",
        "        c4d = self.dropout(c4d)\n",
        "\n",
        "        u4 = self.up4conva(c4d)\n",
        "        # print(\"u4\",u4.shape)\n",
        "        u4 = self.up4(u4)\n",
        "        # print(\"u4\",u4.shape)\n",
        "        u4 = u4 + c3\n",
        "        u4 = self.up4convb(u4)\n",
        "\n",
        "        u3 = self.up3conva(u4)\n",
        "        u3 = self.up3(u3)\n",
        "        u3 = self.up31(u3)\n",
        "        # print(\"u3\",u3.shape)\n",
        "        u3 = u3 + c2\n",
        "        u3 = self.up3convb(u3)\n",
        "\n",
        "        u2 = self.up2conva(u3)\n",
        "        u2 = self.up2(u2)\n",
        "        u2 = u2 + c1\n",
        "        u2 = self.up2convb(u2)\n",
        "\n",
        "        uout = self.up1conv(u2)\n",
        "        # uout = F.sigmoid(uout)\n",
        "        uout = F.softmax(uout)\n",
        "\n",
        "        return uout\n",
        "\n",
        "# if __name__ == \"__main__\":\n",
        "#     #input  = torch.randn(1,4,160,192,128)\n",
        "#     input = torch.randn(1, 5, 260, 260)\n",
        "#     input = torch.randn(1, 5, 1260, 1260)\n",
        "#     #input = torch.randn(1, 4, 164, 164, 164)\n",
        "#     #input2 = torch.randn((1,8,100,100,60))\n",
        "#     model = UNet2D()\n",
        "#     output = model(input)\n",
        "#     print(output.shape) \n",
        "    # print(output.shape)  "
      ]
    },
    {
      "cell_type": "code",
      "source": [
        "import torch\n",
        "checkpoint_path = '/content/drive/MyDrive/CT_Data/CT_Data/Saving_Modelsmy_model_checkpoint_2.pth'\n",
        "checkpoint = torch.load(checkpoint_path)\n",
        "# checkpoint['model_state_dict']['']['loss']\n",
        "checkpoint.keys()\n",
        "model = UNet2D()\n",
        "model = model.to(device)\n",
        "criterion = nn.CrossEntropyLoss()\n",
        "model.load_state_dict(checkpoint['model_state_dict'])\n",
        "model.eval()\n",
        "valid_loss = 0\n",
        "for i, data in enumerate(test_loader):\n",
        "  images, labels = data\n",
        "  images = images.to(device)\n",
        "  labels = labels.to(device)\n",
        "  predicted_output = model(images.float())\n",
        "  loss = criterion(predicted_output,labels)\n",
        "  valid_loss += loss.item()\n",
        "print(f' \\t\\t Valid loss: {valid_loss/len(test_loader)}')"
      ],
      "metadata": {
        "colab": {
          "base_uri": "https://localhost:8080/"
        },
        "id": "77N7iFtuDVdN",
        "outputId": "d62309da-ffd6-4a22-a0ee-d99d39f47cba"
      },
      "execution_count": 21,
      "outputs": [
        {
          "output_type": "stream",
          "name": "stderr",
          "text": [
            "<ipython-input-17-cb4fe42f3fde>:129: UserWarning: Implicit dimension choice for softmax has been deprecated. Change the call to include dim=X as an argument.\n",
            "  uout = F.softmax(uout)\n"
          ]
        },
        {
          "output_type": "stream",
          "name": "stdout",
          "text": [
            " \t\t Valid loss: 17.372819900512695\n"
          ]
        }
      ]
    },
    {
      "cell_type": "code",
      "source": [
        "import matplotlib.pyplot as plt\n",
        "predicted_output.shape\n",
        "out_tensor = predicted_output[0]\n",
        "out_numpy = out_tensor.cpu().detach().numpy()\n",
        "print(out_numpy.shape)\n",
        "\n",
        "plt.imshow(out_numpy[3,:,:])\n",
        "plt.show()"
      ],
      "metadata": {
        "colab": {
          "base_uri": "https://localhost:8080/",
          "height": 287
        },
        "id": "VxXnTcyDKWl9",
        "outputId": "2b9277f4-7726-40bd-d3d9-204b6181b064"
      },
      "execution_count": 23,
      "outputs": [
        {
          "output_type": "stream",
          "name": "stdout",
          "text": [
            "(6, 1260, 1260)\n"
          ]
        },
        {
          "output_type": "display_data",
          "data": {
            "text/plain": [
              "<Figure size 432x288 with 1 Axes>"
            ],
            "image/png": "[encoded data removed]"
          },
          "metadata": {
            "needs_background": "light"
          }
        }
      ]
    }
  ],
  "metadata": {
    "accelerator": "GPU",
    "colab": {
      "provenance": []
    },
    "gpuClass": "standard",
    "kernelspec": {
      "display_name": "Python 3",
      "name": "python3"
    },
    "language_info": {
      "name": "python"
    }
  },
  "nbformat": 4,
  "nbformat_minor": 0
}